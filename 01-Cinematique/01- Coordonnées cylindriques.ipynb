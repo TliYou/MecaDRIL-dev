{
 "cells": [
  {
   "cell_type": "code",
   "execution_count": 1,
   "metadata": {
    "ExecuteTime": {
     "end_time": "2019-03-29T12:30:01.601343Z",
     "start_time": "2019-03-29T12:29:58.728469Z"
    }
   },
   "outputs": [],
   "source": [
    "import numpy as np\n",
    "import matplotlib.pyplot as plt\n",
    "%matplotlib inline"
   ]
  },
  {
   "cell_type": "markdown",
   "metadata": {},
   "source": [
    "# Using `ipyvolume`"
   ]
  },
  {
   "cell_type": "code",
   "execution_count": 3,
   "metadata": {
    "ExecuteTime": {
     "end_time": "2019-03-29T12:30:33.932035Z",
     "start_time": "2019-03-29T12:30:32.266483Z"
    }
   },
   "outputs": [],
   "source": [
    "import ipyvolume as ipv"
   ]
  },
  {
   "cell_type": "markdown",
   "metadata": {},
   "source": [
    "## Examples"
   ]
  },
  {
   "cell_type": "code",
   "execution_count": 23,
   "metadata": {
    "ExecuteTime": {
     "end_time": "2019-03-27T22:21:09.042292Z",
     "start_time": "2019-03-27T22:21:09.039771Z"
    }
   },
   "outputs": [],
   "source": [
    "\n",
    "# \n",
    "# import pandas as pd\n",
    "\n",
    "# V = np.zeros((128,128,128)) # our 3d array\n",
    "# # outer box\n",
    "# V[30:-30,30:-30,30:-30] = 0.75\n",
    "# V[35:-35,35:-35,35:-35] = 0.0\n",
    "# # inner box\n",
    "# V[50:-50,50:-50,50:-50] = 0.25\n",
    "# V[55:-55,55:-55,55:-55] = 0.0\n",
    "# ipv.quickvolshow(V, level=[0.25, 0.75], opacity=0.03, level_width=0.1, data_min=0, data_max=1)"
   ]
  },
  {
   "cell_type": "code",
   "execution_count": 24,
   "metadata": {
    "ExecuteTime": {
     "end_time": "2019-03-27T22:21:09.539695Z",
     "start_time": "2019-03-27T22:21:09.536075Z"
    }
   },
   "outputs": [],
   "source": [
    "# ipv.pylab.clear()\n",
    "# ipv.examples.gaussian(N=1000, draw=True, show=True, seed=42, color=None, marker='sphere')"
   ]
  },
  {
   "cell_type": "code",
   "execution_count": 25,
   "metadata": {
    "ExecuteTime": {
     "end_time": "2019-03-27T22:21:09.627996Z",
     "start_time": "2019-03-27T22:21:09.561569Z"
    }
   },
   "outputs": [],
   "source": [
    "# ipv.pylab.clear()\n",
    "# V = ipv.examples.xyz(shape=128, limits=[-3, 3], spherical=True, sparse=True, centers=True)\n",
    "# #ipv.quickvolshow(V, opacity=0.03, level_width=0.1, data_min=0, data_max=1)"
   ]
  },
  {
   "cell_type": "code",
   "execution_count": 26,
   "metadata": {
    "ExecuteTime": {
     "end_time": "2019-03-27T22:21:09.716571Z",
     "start_time": "2019-03-27T22:21:09.629462Z"
    }
   },
   "outputs": [],
   "source": [
    "# ipyvolume.pylab.clear()\n",
    "# ipyvolume.examples.head(draw=True, show=True, max_shape=256)"
   ]
  },
  {
   "cell_type": "code",
   "execution_count": 27,
   "metadata": {
    "ExecuteTime": {
     "end_time": "2019-03-27T22:21:09.805501Z",
     "start_time": "2019-03-27T22:21:09.717945Z"
    }
   },
   "outputs": [],
   "source": [
    "# ipv.pylab.clear()\n",
    "# ipv.examples.ball(rmax=3, rmin=0, shape=128, limits=[-4, 4], draw=True, show=True,)"
   ]
  },
  {
   "cell_type": "code",
   "execution_count": 28,
   "metadata": {
    "ExecuteTime": {
     "end_time": "2019-03-27T22:21:09.894478Z",
     "start_time": "2019-03-27T22:21:09.807040Z"
    },
    "scrolled": false
   },
   "outputs": [],
   "source": [
    "# ipv.examples.example_ylm(m=0, n=2, shape=128, limits=[-4, 4], draw=True, show=True,)"
   ]
  },
  {
   "cell_type": "markdown",
   "metadata": {},
   "source": [
    "## functions I need"
   ]
  },
  {
   "cell_type": "code",
   "execution_count": 4,
   "metadata": {
    "ExecuteTime": {
     "end_time": "2019-03-29T12:38:52.635056Z",
     "start_time": "2019-03-29T12:38:52.620180Z"
    }
   },
   "outputs": [],
   "source": [
    "def xyz(shape=128, limits=[-3, 3], coordinate='cartesian', sparse=True, centers=False):\n",
    "    \"\"\"\n",
    "    this function is adapted from ipyvolume source code for\n",
    "    different coordinate systems in 3D.\n",
    "    \"\"\"\n",
    "    \n",
    "    # making the shape\n",
    "    dim = 3\n",
    "    try:\n",
    "        shape[0]\n",
    "    except:\n",
    "        shape = [shape] * dim\n",
    "    \n",
    "    # setting the limits (better to change it such that we get it as arg)\n",
    "    try:\n",
    "        limits[0][0]\n",
    "    except:\n",
    "        limits = [limits] * dim\n",
    "    \n",
    "    # makes the cube of coordinates\n",
    "    if centers:\n",
    "        #print([(   vmin+(vmax-vmin)/float(N)/2, vmax-(vmax-vmin)/float(N)/4, (vmax-vmin)/float(N)) for (vmin, vmax), N in zip(limits, shape)])\n",
    "        v = [slice(vmin+(vmax-vmin)/float(N)/2, vmax-(vmax-vmin)/float(N)/4, (vmax-vmin)/float(N)) for (vmin, vmax), N in zip(limits, shape)]\n",
    "    else:\n",
    "        v = [slice(vmin, vmax+(vmax-vmin)/float(N)/2, (vmax-vmin)/float(N-1)) for (vmin, vmax), N in zip(limits, shape)]\n",
    "    \n",
    "    if sparse:\n",
    "        x, y, z = np.ogrid.__getitem__(v)\n",
    "    else:\n",
    "        x, y, z = np.mgrid.__getitem__(v)\n",
    "    \n",
    "    \n",
    "    if coordinate == 'spherical':\n",
    "        r = np.linalg.norm([x, y, z])\n",
    "        theta = np.arctan2(y, x)\n",
    "        phi = np.arccos(z / r)\n",
    "        return x, y, z, r, theta, phi\n",
    "    elif coordinate == 'cylindrical':\n",
    "        r = np.linalg.norm([x, y, 0*z])\n",
    "        phi = np.arctan2(y, x)\n",
    "        return x, y, z, r, phi, np.ones_like(r)*z\n",
    "    else:\n",
    "        return x, y, z\n",
    "    \n",
    "    \n",
    "def cylinder(R, thickness=1.5, shape=128, limits=[-4, 4], draw=True, show=True, **kwargs):\n",
    "    \"\"\"Show a cylinder\"\"\"\n",
    "    import ipyvolume.pylab as p3\n",
    "    #p3.style.use('bmh')\n",
    "    #p3.style.axes_off()\n",
    "    _, _, _, r, phi, z = xyz(shape=shape, limits=limits, coordinate='cylindrical')\n",
    "    data = r * 0\n",
    "    data[(r < R+thickness) & (r >= R)] = 10\n",
    "    if \"data_min\" not in kwargs:\n",
    "        kwargs[\"data_min\"] = 0\n",
    "    if \"data_max\" not in kwargs:\n",
    "        kwargs[\"data_max\"] = 1\n",
    "    data  = data.T\n",
    "    if draw:\n",
    "        vol = p3.volshow(data=data, **kwargs)\n",
    "        if show:\n",
    "            p3.show()\n",
    "        return vol\n",
    "    else:\n",
    "        return data"
   ]
  },
  {
   "cell_type": "markdown",
   "metadata": {},
   "source": [
    "## Making a cylinder"
   ]
  },
  {
   "cell_type": "code",
   "execution_count": 5,
   "metadata": {
    "ExecuteTime": {
     "end_time": "2019-03-29T12:39:48.768295Z",
     "start_time": "2019-03-29T12:39:48.523332Z"
    }
   },
   "outputs": [],
   "source": [
    "_,_,_,r,phi, z = xyz(coordinate='cylindrical')"
   ]
  },
  {
   "cell_type": "code",
   "execution_count": 6,
   "metadata": {
    "ExecuteTime": {
     "end_time": "2019-03-29T12:39:51.008134Z",
     "start_time": "2019-03-29T12:39:49.277121Z"
    }
   },
   "outputs": [
    {
     "name": "stderr",
     "output_type": "stream",
     "text": [
      "/home/arash/miniconda3/envs/dril/lib/python3.7/site-packages/ipyvolume/serialize.py:81: RuntimeWarning:\n",
      "\n",
      "invalid value encountered in true_divide\n",
      "\n"
     ]
    },
    {
     "data": {
      "application/vnd.jupyter.widget-view+json": {
       "model_id": "0860c4356d9f419ba096c0bb700c03d1",
       "version_major": 2,
       "version_minor": 0
      },
      "text/plain": [
       "VBox(children=(VBox(children=(HBox(children=(Label(value='levels:'), FloatSlider(value=0.1, max=1.0, step=0.00…"
      ]
     },
     "metadata": {},
     "output_type": "display_data"
    },
    {
     "data": {
      "application/vnd.jupyter.widget-view+json": {
       "model_id": "3a2c9b4685e045e48a5b06e9960603ef",
       "version_major": 2,
       "version_minor": 0
      },
      "text/plain": [
       "Volume(data=array([[[0., 0., 0., ..., 0., 0., 0.],\n",
       "        [0., 0., 0., ..., 0., 0., 0.],\n",
       "        [0., 0., 0.,…"
      ]
     },
     "metadata": {},
     "output_type": "display_data"
    }
   ],
   "source": [
    "ipv.clear()\n",
    "cylinder(3,thickness=0.5,limits=[-10,10])"
   ]
  },
  {
   "cell_type": "code",
   "execution_count": 7,
   "metadata": {
    "ExecuteTime": {
     "end_time": "2019-03-29T12:40:23.450396Z",
     "start_time": "2019-03-29T12:40:20.257001Z"
    },
    "scrolled": false
   },
   "outputs": [
    {
     "data": {
      "application/vnd.jupyter.widget-view+json": {
       "model_id": "0d755a11da404a75adf7e4f23958e5d2",
       "version_major": 2,
       "version_minor": 0
      },
      "text/plain": [
       "VBox(children=(Figure(camera=PerspectiveCamera(fov=46.0, position=(0.0, 0.0, 2.0), quaternion=(0.0, 0.0, 0.0, …"
      ]
     },
     "metadata": {},
     "output_type": "display_data"
    }
   ],
   "source": [
    "ipv.clear()\n",
    "ipv.pylab.plot_isosurface(r,1, extent=[[0,128],[0,128],[0,128]])\n",
    "#ipv.plot(np.array([0,168]),np.array([0,0]),np.array([0,30]), color='blue',limits=[-3,3])\n",
    "ipv.show()"
   ]
  },
  {
   "cell_type": "markdown",
   "metadata": {
    "ExecuteTime": {
     "end_time": "2019-03-27T17:09:00.249219Z",
     "start_time": "2019-03-27T17:09:00.245263Z"
    }
   },
   "source": [
    "## Notes \n",
    "This is not good:\n",
    "1. the plot_isosurface, cannot dynamically change teh radius.\n",
    "2. The vector that I need to plot, would change by chaning the level of surface.\n",
    "3. the non-iso_surface one sucks!"
   ]
  },
  {
   "cell_type": "markdown",
   "metadata": {},
   "source": [
    "# Using `Plotly`"
   ]
  },
  {
   "cell_type": "code",
   "execution_count": 8,
   "metadata": {
    "ExecuteTime": {
     "end_time": "2019-03-29T12:41:06.467253Z",
     "start_time": "2019-03-29T12:41:06.463872Z"
    }
   },
   "outputs": [],
   "source": [
    "import plotly.plotly as py\n",
    "import plotly.graph_objs as go"
   ]
  },
  {
   "cell_type": "code",
   "execution_count": 9,
   "metadata": {
    "ExecuteTime": {
     "end_time": "2019-03-29T12:41:11.568703Z",
     "start_time": "2019-03-29T12:41:06.892859Z"
    }
   },
   "outputs": [
    {
     "name": "stderr",
     "output_type": "stream",
     "text": [
      "/home/arash/miniconda3/envs/dril/lib/python3.7/site-packages/IPython/core/display.py:689: UserWarning:\n",
      "\n",
      "Consider using IPython.display.IFrame instead\n",
      "\n"
     ]
    },
    {
     "data": {
      "text/html": [
       "<iframe id=\"igraph\" scrolling=\"no\" style=\"border:none;\" seamless=\"seamless\" src=\"https://plot.ly/~arashgmn/24.embed\" height=\"525px\" width=\"100%\"></iframe>"
      ],
      "text/plain": [
       "<plotly.tools.PlotlyDisplay object>"
      ]
     },
     "execution_count": 9,
     "metadata": {},
     "output_type": "execute_result"
    }
   ],
   "source": [
    "\n",
    "phi = np.linspace(0, 2 * np.pi, 360)\n",
    "z = np.linspace(0, 10, 100)\n",
    "phi_grid, z_grid = np.meshgrid(phi, z)\n",
    "\n",
    "\n",
    "# the vector end points\n",
    "X = [0, 3]\n",
    "Y = [0, 4]\n",
    "Z = [0, 2]\n",
    "\n",
    "# the cylinder\n",
    "r = np.sqrt(X[1]**2 + Y[1]**2)\n",
    "x = r * np.cos(phi_grid)\n",
    "y = r * np.sin(phi_grid)\n",
    "surface = go.Surface(x=x, y=y, z=z_grid, opacity=0.5, colorscale='Blues',showscale = False)\n",
    "\n",
    "\n",
    "# projection on xy-plane\n",
    "xy_proj = go.Scatter3d(x=X, y=Y, z=[0,0],\n",
    "                       line=dict(color='rgb(128,0,0)',width=5, dash ='dash'),\n",
    "                       marker=dict(size=0) )\n",
    "\n",
    "# projection on x-axis\n",
    "x_proj = go.Scatter3d(x=[0,X[1]], y=[0,0], z=[0,0],\n",
    "                       line=dict(color='rgb(0,128,0)',width=5, dash ='dash'),\n",
    "                       marker=dict(size=0), )\n",
    "\n",
    "# projection on y-axis\n",
    "y_proj = go.Scatter3d(x=[0,0], y=[0,Y[1]], z=[0,0],\n",
    "                       line=dict(color='rgb(0,128,0)',width=5, dash ='dash'),\n",
    "                       marker=dict(size=0) )\n",
    "\n",
    "# projection on z-axis\n",
    "z_proj = go.Scatter3d(x=[0,0], y=[0,0], z=[0,Z[1]],\n",
    "                       line=dict(color='rgb(0,128,0)',width=5, dash ='dash'),\n",
    "                       marker=dict(size=0) )\n",
    "\n",
    "\n",
    "# projection on z-axis\n",
    "xy2x_proj = go.Scatter3d(x=[X[1],X[1]], y=[Y[1],0], z=[0,0],mode = 'lines',\n",
    "                       line=dict(color='rgb(0,0,0)',width=5, dash ='dash') )\n",
    "\n",
    "xy2y_proj = go.Scatter3d(x=[X[1],0], y=[Y[1],Y[1]], z=[0,0],mode = 'lines',\n",
    "                       line=dict(color='rgb(0,0,0)',width=5, dash ='dash') )\n",
    "\n",
    "vec2z_proj = go.Scatter3d(x=[X[1],0], y=[Y[1],0], z=[Z[1],Z[1]],mode = 'lines',\n",
    "                       line=dict(color='rgb(0,0,0)',width=5, dash ='dash') )\n",
    "\n",
    "vec2xy_proj = go.Scatter3d(x=[X[1],X[1]], y=[Y[1],Y[1]], z=[Z[1],0],mode = 'lines',\n",
    "                       line=dict(color='rgb(256,0,0)',width=5, dash ='dash') )\n",
    "\n",
    "Vector = go.Scatter3d(x=X, y=Y, z=Z,\n",
    "                      marker=dict(size=6, color='rgb(0,0,0)'),\n",
    "                      line=dict(color='rgb(0,0,0)', width=5))\n",
    "\n",
    "\n",
    "\n",
    "layout_axis_config = dict(gridcolor='rgb(255, 255, 255)',\n",
    "                            zerolinecolor='rgb(255, 255, 255)',\n",
    "                            backgroundcolor='rgb(230, 230,230)',\n",
    "                            zerolinewidth=4,\n",
    "                            showbackground=True,\n",
    "                            )\n",
    "layout = go.Layout(title='Cylindrical Coordinate',\n",
    "                   scene=dict(xaxis= layout_axis_config,\n",
    "                              yaxis= layout_axis_config,\n",
    "                              zaxis= layout_axis_config),\n",
    "                   showlegend=False)\n",
    "\n",
    "fig = go.Figure(data=[surface, Vector, xy_proj, x_proj, y_proj, z_proj, \n",
    "                      xy2x_proj, xy2y_proj, vec2z_proj, vec2xy_proj], \n",
    "                layout=layout)\n",
    "py.iplot(fig, filename='Parametric_plot')"
   ]
  }
 ],
 "metadata": {
  "hide_input": false,
  "kernelspec": {
   "display_name": "Python 3",
   "language": "python",
   "name": "python3"
  },
  "language_info": {
   "codemirror_mode": {
    "name": "ipython",
    "version": 3
   },
   "file_extension": ".py",
   "mimetype": "text/x-python",
   "name": "python",
   "nbconvert_exporter": "python",
   "pygments_lexer": "ipython3",
   "version": "3.7.2"
  },
  "toc": {
   "base_numbering": 1,
   "nav_menu": {
    "height": "218.991px",
    "width": "270px"
   },
   "number_sections": true,
   "sideBar": true,
   "skip_h1_title": true,
   "title_cell": "Table of Contents",
   "title_sidebar": "Contents",
   "toc_cell": false,
   "toc_position": {},
   "toc_section_display": true,
   "toc_window_display": false
  }
 },
 "nbformat": 4,
 "nbformat_minor": 2
}
