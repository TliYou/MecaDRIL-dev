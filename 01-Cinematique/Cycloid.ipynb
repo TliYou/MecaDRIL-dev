{
 "cells": [
  {
   "cell_type": "code",
   "execution_count": null,
   "metadata": {},
   "outputs": [],
   "source": [
    "import numpy as np\n",
    "import matplotlib.pyplot as plt\n",
    "from matplotlib.animation import FuncAnimation"
   ]
  },
  {
   "cell_type": "code",
   "execution_count": null,
   "metadata": {},
   "outputs": [],
   "source": [
    "def circle(a, b, r):\n",
    "    # (a,b): the center of the circle\n",
    "    # r: the radius of the circle\n",
    "    # T: The number of the segments for drawing the circle\n",
    "    T = 100\n",
    "    x, y = [0]*T, [0]*T\n",
    "    for i,theta in enumerate(np.linspace(0,2*np.pi,T)):\n",
    "        x[i] = a + r*np.cos(theta)\n",
    "        y[i] = b + r*np.sin(theta)\n",
    "    return x, y\n",
    "\n",
    "\n",
    "def gen():\n",
    "    for theta in np.linspace(0,9*np.pi,100):\n",
    "        yield R*(theta-np.sin(theta)), R*(1-np.cos(theta)), R*theta\n",
    "\n",
    "def gen_speed():\n",
    "    omega=1\n",
    "    for theta in np.linspace(0,9*np.pi, 100):\n",
    "        yield R*omega*(1 -np.cos(theta)), R*omega*np.sin(theta), R*theta"
   ]
  },
  {
   "cell_type": "code",
   "execution_count": null,
   "metadata": {},
   "outputs": [],
   "source": [
    "#Figure setup\n",
    "fig = plt.figure(figsize=(12,6))\n",
    "ax = fig.add_subplot(111)\n",
    "time_text = ax.text(0.05, 0.8, '', transform=ax.transAxes)\n",
    "\n",
    "#Plot layout setup\n",
    "R = 3\n",
    "cycloid, = plt.plot([], [], 'r-', lw=3)\n",
    "line, = plt.plot([], [], 'y-', lw=3)\n",
    "circle_line, = plt.plot([], [], 'g', lw=3)\n",
    "point, = plt.plot([], [], 'bo', ms=5)\n",
    "\n",
    "xx, yy = [], []\n",
    "\n",
    "def init():\n",
    "    ax.set_ylim(0, 20)\n",
    "    ax.set_xlim(0, 80)\n",
    "    ax.set_xlabel('x')\n",
    "    ax.set_ylabel('y')\n",
    "    ax.set_aspect('equal')\n",
    "    ax.grid()\n",
    "    return \n",
    "\n",
    "def func(data):\n",
    "    x, y, Rt = data\n",
    "    time_text.set_text(r'$\\theta$ = %.2f $\\pi$' % (Rt/np.pi))\n",
    "    xx.append(x)\n",
    "    yy.append(y)\n",
    "    cx, cy = circle(Rt, R, R)\n",
    "    \n",
    "    cycloid.set_data(xx, yy)\n",
    "    line.set_data((x,Rt), (y,R))\n",
    "    circle_line.set_data(cx, cy)\n",
    "    point.set_data(x, y)\n",
    "    return"
   ]
  },
  {
   "cell_type": "code",
   "execution_count": null,
   "metadata": {},
   "outputs": [],
   "source": [
    "plt.rcParams['animation.html'] = 'html5'\n",
    "\n",
    "animation = FuncAnimation(fig, func, gen, init_func=init, blit=False,interval=1./36*1500)\n",
    "animation"
   ]
  },
  {
   "cell_type": "code",
   "execution_count": null,
   "metadata": {},
   "outputs": [],
   "source": [
    "v_x = lambda theta, R: R*(1 + np.cos(theta))\n",
    "v_y = lambda theta, R: R*np.sin(theta)\n",
    "\n",
    "#Figure setup\n",
    "fig2, axes = plt.subplots(2, 1, figsize=(12,6))\n",
    "plt.subplots_adjust(hspace = 0.3)\n",
    "\n",
    "axes[0].set_ylim(0, 10)\n",
    "axes[0].set_xlim(0, 9)\n",
    "axes[0].set_xlabel('theta / $\\pi$')\n",
    "axes[0].set_ylabel('vitesse x / $\\omega$')\n",
    "axes[0].grid()\n",
    "\n",
    "axes[1].set_ylim(-5, 5)\n",
    "axes[1].set_xlim(0, 9)\n",
    "axes[1].set_xlabel('theta / $\\pi$')\n",
    "axes[1].set_ylabel('vitesse y / $\\omega$')\n",
    "axes[1].grid()\n",
    "\n",
    "#Plot layout setup\n",
    "R = 3\n",
    "theta = np.linspace(0,9*np.pi, 100)\n",
    "plt.sca(axes[0])\n",
    "vx, = plt.plot(theta/np.pi, v_x(theta,R), 'r-', lw=3, label='vitesse x')\n",
    "plt.sca(axes[1])\n",
    "vy, = plt.plot(theta/np.pi, v_y(theta,R), 'y-', lw=3, label='vitesse y')\n",
    "\n",
    "ax2.legend()\n",
    "plt.show()\n",
    "\n"
   ]
  },
  {
   "cell_type": "code",
   "execution_count": null,
   "metadata": {},
   "outputs": [],
   "source": []
  }
 ],
 "metadata": {
  "kernelspec": {
   "display_name": "Python 3",
   "language": "python",
   "name": "python3"
  },
  "language_info": {
   "codemirror_mode": {
    "name": "ipython",
    "version": 3
   },
   "file_extension": ".py",
   "mimetype": "text/x-python",
   "name": "python",
   "nbconvert_exporter": "python",
   "pygments_lexer": "ipython3",
   "version": "3.7.3"
  }
 },
 "nbformat": 4,
 "nbformat_minor": 2
}
