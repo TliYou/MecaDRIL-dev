{
 "cells": [
  {
   "cell_type": "markdown",
   "metadata": {},
   "source": [
    "## Coriolis : jet d'eau tournant"
   ]
  },
  {
   "cell_type": "markdown",
   "metadata": {},
   "source": [
    "Le but de notebook est de modéliser l'effet de la force de Coriolis sur un jet d'eau émis horizontalement sur un plateau tournant"
   ]
  },
  {
   "cell_type": "code",
   "execution_count": null,
   "metadata": {},
   "outputs": [],
   "source": [
    "import matplotlib\n",
    "import matplotlib.pyplot as plt\n",
    "import numpy as np"
   ]
  },
  {
   "cell_type": "code",
   "execution_count": null,
   "metadata": {},
   "outputs": [],
   "source": [
    "def xdet(R,vzero,Omega,t):\n",
    "    x = R + (t*vzero-R)*np.cos(Omega*t)-R*Omega*t*np.sin(Omega*t)\n",
    "    return x"
   ]
  },
  {
   "cell_type": "code",
   "execution_count": null,
   "metadata": {},
   "outputs": [],
   "source": [
    "def ydet(R,vzero,Omega,t):\n",
    "    y = -R*Omega*t*np.cos(Omega*t)+(R-vzero*t)*np.sin(Omega*t)\n",
    "    return y"
   ]
  },
  {
   "cell_type": "code",
   "execution_count": null,
   "metadata": {},
   "outputs": [],
   "source": [
    "# trccé plateau\n",
    "angles = np.linspace(0,2*np.pi,100)\n",
    "def xc(R,alpha):\n",
    "    xc = R*(1+np.cos(alpha))\n",
    "    return xc\n",
    "\n",
    "def yc(R,alpha):\n",
    "    yc = R*np.sin(alpha)\n",
    "    return yc\n"
   ]
  },
  {
   "cell_type": "code",
   "execution_count": null,
   "metadata": {},
   "outputs": [],
   "source": [
    "time=np.linspace(0,2,100)"
   ]
  },
  {
   "cell_type": "code",
   "execution_count": null,
   "metadata": {},
   "outputs": [],
   "source": [
    "plt.plot(xdet(1,2,1,time),ydet(1,2,1,time));\n",
    "plt.plot(xc(1,angles),yc(1,angles))"
   ]
  },
  {
   "cell_type": "code",
   "execution_count": null,
   "metadata": {},
   "outputs": [],
   "source": []
  }
 ],
 "metadata": {
  "hide_input": false,
  "kernelspec": {
   "display_name": "Python 3",
   "language": "python",
   "name": "python3"
  },
  "language_info": {
   "codemirror_mode": {
    "name": "ipython",
    "version": 3
   },
   "file_extension": ".py",
   "mimetype": "text/x-python",
   "name": "python",
   "nbconvert_exporter": "python",
   "pygments_lexer": "ipython3",
   "version": "3.7.3"
  }
 },
 "nbformat": 4,
 "nbformat_minor": 2
}
