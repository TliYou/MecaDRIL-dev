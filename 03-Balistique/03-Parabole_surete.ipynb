{
 "cells": [
  {
   "cell_type": "markdown",
   "metadata": {},
   "source": [
    "# Balistique : parabole de sureté"
   ]
  },
  {
   "cell_type": "code",
   "execution_count": null,
   "metadata": {},
   "outputs": [],
   "source": [
    "import numpy as np\n",
    "\n",
    "from ipywidgets import interact, interactive, fixed, interact_manual\n",
    "import ipywidgets as widgets\n",
    "#from IPython.display import HTML\n",
    "\n",
    "from bokeh.io import push_notebook, show, output_notebook\n",
    "from bokeh.plotting import figure\n",
    "from bokeh.models import Arrow, OpenHead, NormalHead, VeeHead, Slider\n",
    "\n",
    "import warnings; warnings.simplefilter('ignore')\n",
    "\n",
    "\n",
    "output_notebook()"
   ]
  },
  {
   "cell_type": "code",
   "execution_count": null,
   "metadata": {},
   "outputs": [],
   "source": [
    "g = 9.81 # g: accélération de la pesaneur terrestre\n"
   ]
  },
  {
   "cell_type": "code",
   "execution_count": null,
   "metadata": {},
   "outputs": [],
   "source": [
    "# Fonctions auxiliaires pour calculer x et y sans frottements (paramètres: v_0, alpha et t)\n",
    "traj_sf_x_ = lambda v_0, alpha, t: v_0*np.cos(alpha)*t\n",
    "traj_sf_y_ = lambda v_0, alpha, t:-0.5*g*t**2+v_0*np.sin(alpha)*t "
   ]
  },
  {
   "cell_type": "code",
   "execution_count": null,
   "metadata": {},
   "outputs": [],
   "source": [
    "## calcul des paramètres\n",
    "\n",
    "# Définition des paramètres initiaux\n",
    "v_0_ini = 50 #en m/s\n",
    "maxcurves = 15\n",
    "alphas = np.linspace(0,np.pi/2,maxcurves)\n",
    "\n",
    "# On divise le temps en 1000 , entre 0 et 15 secondes\n",
    "t = np.linspace(0,15,1000)\n",
    "\n",
    "#x et y de t sans frottements\n",
    "#x_no_f = traj_sf_x_(v_0_ini, alphas, t)\n",
    "#y_no_f = traj_sf_y_(v_0_ini, alpha_ini, t)\n",
    "\n"
   ]
  },
  {
   "cell_type": "code",
   "execution_count": null,
   "metadata": {},
   "outputs": [],
   "source": [
    "for i in range(0,maxcurves):\n",
    "    name = 'r_n_%s = p.line(traj_sf_x_(v_0_ini,alphas[%s],t), traj_sf_y_(v_0_ini,alphas[%s],t), color=\"#b6e740\", line_width=4.5, alpha=0.8)' % (i,i,i)\n",
    "    print(name) "
   ]
  },
  {
   "cell_type": "code",
   "execution_count": null,
   "metadata": {},
   "outputs": [],
   "source": [
    "for i in range (0,maxcurves):\n",
    "    name1 = '    r_n_%s.data_source.data[\\'x\\'] = traj_sf_x_(v_0,alphas[%s] , t)' %(i,i)\n",
    "    name2 = '    r_n_%s.data_source.data[\\'y\\'] = traj_sf_y_(v_0,alphas[%s] , t)' %(i,i)\n",
    "    print(name1)\n",
    "    print(name2)"
   ]
  },
  {
   "cell_type": "markdown",
   "metadata": {},
   "source": [
    "# Fonctions pour le tracé de la trajectoire avec et sans frottements"
   ]
  },
  {
   "cell_type": "code",
   "execution_count": null,
   "metadata": {},
   "outputs": [],
   "source": [
    "\n",
    "# Définir figure\n",
    "p = figure(title=\"Trajectoire du projectile\", plot_height=360, plot_width=792, y_range=(0,135), x_range=(0,297), \n",
    "           background_fill_color='#ffffff')\n",
    "\n",
    "# Trajectoire sans frottements\n",
    "\n",
    "r_n_0 = p.line(traj_sf_x_(v_0_ini,alphas[0],t), traj_sf_y_(v_0_ini,alphas[0],t), color=\"#b6e740\", line_width=4.5, alpha=0.8)\n",
    "r_n_1 = p.line(traj_sf_x_(v_0_ini,alphas[1],t), traj_sf_y_(v_0_ini,alphas[1],t), color=\"#b6e740\", line_width=4.5, alpha=0.8)\n",
    "r_n_2 = p.line(traj_sf_x_(v_0_ini,alphas[2],t), traj_sf_y_(v_0_ini,alphas[2],t), color=\"#b6e740\", line_width=4.5, alpha=0.8)\n",
    "r_n_3 = p.line(traj_sf_x_(v_0_ini,alphas[3],t), traj_sf_y_(v_0_ini,alphas[3],t), color=\"#b6e740\", line_width=4.5, alpha=0.8)\n",
    "r_n_4 = p.line(traj_sf_x_(v_0_ini,alphas[4],t), traj_sf_y_(v_0_ini,alphas[4],t), color=\"#b6e740\", line_width=4.5, alpha=0.8)\n",
    "r_n_5 = p.line(traj_sf_x_(v_0_ini,alphas[5],t), traj_sf_y_(v_0_ini,alphas[5],t), color=\"#b6e740\", line_width=4.5, alpha=0.8)\n",
    "r_n_6 = p.line(traj_sf_x_(v_0_ini,alphas[6],t), traj_sf_y_(v_0_ini,alphas[6],t), color=\"#b6e740\", line_width=4.5, alpha=0.8)\n",
    "r_n_7 = p.line(traj_sf_x_(v_0_ini,alphas[7],t), traj_sf_y_(v_0_ini,alphas[7],t), color=\"#b6e740\", line_width=4.5, alpha=0.8)\n",
    "r_n_8 = p.line(traj_sf_x_(v_0_ini,alphas[8],t), traj_sf_y_(v_0_ini,alphas[8],t), color=\"#b6e740\", line_width=4.5, alpha=0.8)\n",
    "r_n_9 = p.line(traj_sf_x_(v_0_ini,alphas[9],t), traj_sf_y_(v_0_ini,alphas[9],t), color=\"#b6e740\", line_width=4.5, alpha=0.8)\n",
    "r_n_10 = p.line(traj_sf_x_(v_0_ini,alphas[10],t), traj_sf_y_(v_0_ini,alphas[10],t), color=\"#b6e740\", line_width=4.5, alpha=0.8)\n",
    "r_n_11 = p.line(traj_sf_x_(v_0_ini,alphas[11],t), traj_sf_y_(v_0_ini,alphas[11],t), color=\"#b6e740\", line_width=4.5, alpha=0.8)\n",
    "r_n_12 = p.line(traj_sf_x_(v_0_ini,alphas[12],t), traj_sf_y_(v_0_ini,alphas[12],t), color=\"#b6e740\", line_width=4.5, alpha=0.8)\n",
    "r_n_13 = p.line(traj_sf_x_(v_0_ini,alphas[13],t), traj_sf_y_(v_0_ini,alphas[13],t), color=\"#b6e740\", line_width=4.5, alpha=0.8)\n",
    "r_n_14 = p.line(traj_sf_x_(v_0_ini,alphas[14],t), traj_sf_y_(v_0_ini,alphas[14],t), color=\"#b6e740\", line_width=4.5, alpha=0.8)   \n",
    "    \n",
    "p.xaxis.axis_label = 'x (m)'\n",
    "p.yaxis.axis_label = 'y (m)'\n",
    "\n",
    "def update_bullet(v_0):\n",
    "    \n",
    "    r_n_0.data_source.data['x'] = traj_sf_x_(v_0,alphas[0] , t)\n",
    "    r_n_0.data_source.data['y'] = traj_sf_y_(v_0,alphas[0] , t)\n",
    "    r_n_1.data_source.data['x'] = traj_sf_x_(v_0,alphas[1] , t)\n",
    "    r_n_1.data_source.data['y'] = traj_sf_y_(v_0,alphas[1] , t)\n",
    "    r_n_2.data_source.data['x'] = traj_sf_x_(v_0,alphas[2] , t)\n",
    "    r_n_2.data_source.data['y'] = traj_sf_y_(v_0,alphas[2] , t)\n",
    "    r_n_3.data_source.data['x'] = traj_sf_x_(v_0,alphas[3] , t)\n",
    "    r_n_3.data_source.data['y'] = traj_sf_y_(v_0,alphas[3] , t)\n",
    "    r_n_4.data_source.data['x'] = traj_sf_x_(v_0,alphas[4] , t)\n",
    "    r_n_4.data_source.data['y'] = traj_sf_y_(v_0,alphas[4] , t)\n",
    "    r_n_5.data_source.data['x'] = traj_sf_x_(v_0,alphas[5] , t)\n",
    "    r_n_5.data_source.data['y'] = traj_sf_y_(v_0,alphas[5] , t)\n",
    "    r_n_6.data_source.data['x'] = traj_sf_x_(v_0,alphas[6] , t)\n",
    "    r_n_6.data_source.data['y'] = traj_sf_y_(v_0,alphas[6] , t)\n",
    "    r_n_7.data_source.data['x'] = traj_sf_x_(v_0,alphas[7] , t)\n",
    "    r_n_7.data_source.data['y'] = traj_sf_y_(v_0,alphas[7] , t)\n",
    "    r_n_8.data_source.data['x'] = traj_sf_x_(v_0,alphas[8] , t)\n",
    "    r_n_8.data_source.data['y'] = traj_sf_y_(v_0,alphas[8] , t)\n",
    "    r_n_9.data_source.data['x'] = traj_sf_x_(v_0,alphas[9] , t)\n",
    "    r_n_9.data_source.data['y'] = traj_sf_y_(v_0,alphas[9] , t)\n",
    "    r_n_10.data_source.data['x'] = traj_sf_x_(v_0,alphas[10] , t)\n",
    "    r_n_10.data_source.data['y'] = traj_sf_y_(v_0,alphas[10] , t)\n",
    "    r_n_11.data_source.data['x'] = traj_sf_x_(v_0,alphas[11] , t)\n",
    "    r_n_11.data_source.data['y'] = traj_sf_y_(v_0,alphas[11] , t)\n",
    "    r_n_12.data_source.data['x'] = traj_sf_x_(v_0,alphas[12] , t)\n",
    "    r_n_12.data_source.data['y'] = traj_sf_y_(v_0,alphas[12] , t)\n",
    "    r_n_13.data_source.data['x'] = traj_sf_x_(v_0,alphas[13] , t)\n",
    "    r_n_13.data_source.data['y'] = traj_sf_y_(v_0,alphas[13] , t)\n",
    "    r_n_14.data_source.data['x'] = traj_sf_x_(v_0,alphas[14] , t)\n",
    "    r_n_14.data_source.data['y'] = traj_sf_y_(v_0,alphas[14] , t)    \n",
    "        \n",
    "    push_notebook()\n",
    "    \n"
   ]
  },
  {
   "cell_type": "markdown",
   "metadata": {},
   "source": [
    "# 1. Tracé proprement dit. \n",
    "\n"
   ]
  },
  {
   "cell_type": "code",
   "execution_count": null,
   "metadata": {},
   "outputs": [],
   "source": [
    "show(p, notebook_handle=True)\n",
    "interact(update_bullet, \\\n",
    "         v_0=widgets.IntSlider(min=0,max=50,step=1,value=50, description='$v_0$ :'));"
   ]
  }
 ],
 "metadata": {
  "hide_input": false,
  "kernelspec": {
   "display_name": "Python 3",
   "language": "python",
   "name": "python3"
  },
  "language_info": {
   "codemirror_mode": {
    "name": "ipython",
    "version": 3
   },
   "file_extension": ".py",
   "mimetype": "text/x-python",
   "name": "python",
   "nbconvert_exporter": "python",
   "pygments_lexer": "ipython3",
   "version": "3.7.3"
  }
 },
 "nbformat": 4,
 "nbformat_minor": 2
}
