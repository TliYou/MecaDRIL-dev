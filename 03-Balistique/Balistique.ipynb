{
 "cells": [
  {
   "cell_type": "markdown",
   "metadata": {},
   "source": [
    "## Demonstrations de la balistique"
   ]
  },
  {
   "cell_type": "code",
   "execution_count": 1,
   "metadata": {
    "collapsed": true
   },
   "outputs": [],
   "source": [
    "import matplotlib.pyplot as plt\n",
    "import numpy as np\n",
    "\n",
    "from ipywidgets import interact, interactive, fixed, interact_manual\n",
    "import ipywidgets as widgets\n",
    "from IPython.display import HTML"
   ]
  },
  {
   "cell_type": "markdown",
   "metadata": {},
   "source": [
    "# Demo 1: trajectory of lauched bullet without including air resistance force"
   ]
  },
  {
   "cell_type": "markdown",
   "metadata": {},
   "source": [
    "Below demonstrates the trajectory of the bullet without considering the air resistance force."
   ]
  },
  {
   "cell_type": "markdown",
   "metadata": {},
   "source": [
    "$\\vec r = (tv_0\\cos\\alpha, -1/2gt^2+tv_0\\sin\\alpha)$"
   ]
  },
  {
   "cell_type": "code",
   "execution_count": 2,
   "metadata": {},
   "outputs": [
    {
     "data": {
      "application/vnd.jupyter.widget-view+json": {
       "model_id": "8a58bb30ed884a24bc287df3ad39c97f",
       "version_major": 2,
       "version_minor": 0
      },
      "text/html": [
       "<p>Failed to display Jupyter Widget of type <code>interactive</code>.</p>\n",
       "<p>\n",
       "  If you're reading this message in the Jupyter Notebook or JupyterLab Notebook, it may mean\n",
       "  that the widgets JavaScript is still loading. If this message persists, it\n",
       "  likely means that the widgets JavaScript library is either not installed or\n",
       "  not enabled. See the <a href=\"https://ipywidgets.readthedocs.io/en/stable/user_install.html\">Jupyter\n",
       "  Widgets Documentation</a> for setup instructions.\n",
       "</p>\n",
       "<p>\n",
       "  If you're reading this message in another frontend (for example, a static\n",
       "  rendering on GitHub or <a href=\"https://nbviewer.jupyter.org/\">NBViewer</a>),\n",
       "  it may mean that your frontend doesn't currently support widgets.\n",
       "</p>\n"
      ],
      "text/plain": [
       "interactive(children=(IntSlider(value=25, description='v_0', max=50), IntSlider(value=45, description='alpha', max=90), Output()), _dom_classes=('widget-interact',))"
      ]
     },
     "metadata": {},
     "output_type": "display_data"
    }
   ],
   "source": [
    "g=9.81\n",
    "\n",
    "def parabole(v_0, alpha,): \n",
    "    alpharad=alpha*np.pi/180 # conversion of the angle\n",
    "    t = np.linspace(0,10,1000) # define time interval\n",
    "    vit=[0,0,v_0*np.cos(alpharad),v_0*np.sin(alpharad)] # initial velocity\n",
    "    \n",
    "    ax = plt.gca()\n",
    "    ax.quiver(0,0,v_0*np.cos(alpharad),v_0*np.sin(alpharad),color='red',angles='xy', scale_units='xy', scale=1)\n",
    "    # initial velocity vector\n",
    "\n",
    "    sx = v_0*np.cos(alpharad)*t\n",
    "    sy = -0.5*g*t**2+v_0*np.sin(alpharad)*t # the coordination of trajectory\n",
    "    \n",
    "    plt.plot(sx, sy)\n",
    "    plt.axis([0, np.max(sx), 0, np.max(sy)+20])  # change the scale of axes\n",
    "    plt.xlabel('Horizontal movement of the bullet')\n",
    "    plt.ylabel('Vertical movement of the bullet')\n",
    "    plt.title('Trajectory of the lauched bullet')\n",
    "    plt.axes().set_aspect('equal')\n",
    "    plt.show()\n",
    "    \n",
    "interact(parabole, v_0=(0,50,1), alpha=(0,90,1))  ;  "
   ]
  },
  {
   "cell_type": "markdown",
   "metadata": {},
   "source": [
    "# Demo 2: trajectory of lauched bullet including air resistance force"
   ]
  },
  {
   "cell_type": "markdown",
   "metadata": {},
   "source": [
    "Below demonstrates the trajectory of the bullet when considering the air resistance force with adjustable $\\vec v_0$, $\\alpha$ and $\\beta$ ($\\beta$ is the proportionality between the air resistance coefficient and mass of bullet)"
   ]
  },
  {
   "cell_type": "markdown",
   "metadata": {},
   "source": [
    "$\\vec r= (\\int_{0}^{t} v_0\\cos\\alpha e^{-\\beta t} dt,\\int_{0}^{t} \\frac{-g}{\\beta}+(v_0\\sin\\alpha+\\frac{-g}{\\beta}) e^{-\\beta t}) dt $;\n"
   ]
  },
  {
   "cell_type": "code",
   "execution_count": 3,
   "metadata": {},
   "outputs": [
    {
     "data": {
      "application/vnd.jupyter.widget-view+json": {
       "model_id": "781ec2ee60724398b74a5aa073e00ae2",
       "version_major": 2,
       "version_minor": 0
      },
      "text/html": [
       "<p>Failed to display Jupyter Widget of type <code>interactive</code>.</p>\n",
       "<p>\n",
       "  If you're reading this message in the Jupyter Notebook or JupyterLab Notebook, it may mean\n",
       "  that the widgets JavaScript is still loading. If this message persists, it\n",
       "  likely means that the widgets JavaScript library is either not installed or\n",
       "  not enabled. See the <a href=\"https://ipywidgets.readthedocs.io/en/stable/user_install.html\">Jupyter\n",
       "  Widgets Documentation</a> for setup instructions.\n",
       "</p>\n",
       "<p>\n",
       "  If you're reading this message in another frontend (for example, a static\n",
       "  rendering on GitHub or <a href=\"https://nbviewer.jupyter.org/\">NBViewer</a>),\n",
       "  it may mean that your frontend doesn't currently support widgets.\n",
       "</p>\n"
      ],
      "text/plain": [
       "interactive(children=(IntSlider(value=25, description='v_0', max=50), IntSlider(value=45, description='alpha', max=90), FloatSlider(value=0.49001, description='beta', max=1.0, min=1e-05, step=0.01), Output()), _dom_classes=('widget-interact',))"
      ]
     },
     "metadata": {},
     "output_type": "display_data"
    }
   ],
   "source": [
    "\n",
    "from scipy.integrate import cumtrapz\n",
    "\n",
    "def parabole_air(v_0,alpha,beta):\n",
    "    alpharad = alpha*np.pi/180\n",
    "    t = np.linspace(0,15,1000)\n",
    "    vit = [0,0,v_0*np.cos(alpharad),v_0*np.sin(alpharad)]\n",
    "    \n",
    "    ax = plt.gca()\n",
    "    ax.quiver(0,0,v_0*np.cos(alpharad),v_0*np.sin(alpharad),color='red',angles='xy', scale_units='xy', scale=1)\n",
    "    \n",
    "    trajectory_x = cumtrapz(v_0*np.cos(alpharad)*np.exp(-beta*t),t)\n",
    "    trajectory_y = cumtrapz(-g/beta+(v_0*np.sin(alpharad)+g/beta)*np.exp(-beta*t),t)\n",
    "    \n",
    "    plt.plot(trajectory_x,trajectory_y)\n",
    "    plt.axis([0, np.max(trajectory_x)+10, 0, np.max(trajectory_y)+20])    \n",
    "    plt.xlabel('Horizontal movement of the bullet')\n",
    "    plt.ylabel('Verticle movement of the bullet')\n",
    "    plt.title('Trajectory of the lauched bullet')\n",
    "    plt.axes().set_aspect('equal')\n",
    "    plt.show()\n",
    "\n",
    "interact(parabole_air, v_0=(0,50,1), alpha=(0,90,1), beta=(0.00001,1,0.01))  ;  "
   ]
  },
  {
   "cell_type": "markdown",
   "metadata": {},
   "source": [
    "# Demo 3: trajectory of lauched bullet with vs. without air resistance force"
   ]
  },
  {
   "cell_type": "markdown",
   "metadata": {},
   "source": [
    "Below demonstrates the trajectory of the bullet with vs. without considering air resistance force"
   ]
  },
  {
   "cell_type": "markdown",
   "metadata": {},
   "source": [
    "$\\vec r = (tv_0\\cos\\alpha, -1/2gt^2+tv_0\\sin\\alpha)$;(without considering air resistance force)\n",
    "\n",
    "$\\vec r= (\\int_{0}^{t} v_0\\cos\\alpha e^{-\\beta t} dt,\\int_{0}^{t} \\frac{-g}{\\beta}+(v_0\\sin\\alpha+\\frac{-g}{\\beta}) e^{-\\beta t}) dt $; (considering air resistance force)"
   ]
  },
  {
   "cell_type": "code",
   "execution_count": 10,
   "metadata": {
    "scrolled": true
   },
   "outputs": [
    {
     "data": {
      "application/vnd.jupyter.widget-view+json": {
       "model_id": "e7248083c3624ffab1e310eb09a24603",
       "version_major": 2,
       "version_minor": 0
      },
      "text/html": [
       "<p>Failed to display Jupyter Widget of type <code>interactive</code>.</p>\n",
       "<p>\n",
       "  If you're reading this message in the Jupyter Notebook or JupyterLab Notebook, it may mean\n",
       "  that the widgets JavaScript is still loading. If this message persists, it\n",
       "  likely means that the widgets JavaScript library is either not installed or\n",
       "  not enabled. See the <a href=\"https://ipywidgets.readthedocs.io/en/stable/user_install.html\">Jupyter\n",
       "  Widgets Documentation</a> for setup instructions.\n",
       "</p>\n",
       "<p>\n",
       "  If you're reading this message in another frontend (for example, a static\n",
       "  rendering on GitHub or <a href=\"https://nbviewer.jupyter.org/\">NBViewer</a>),\n",
       "  it may mean that your frontend doesn't currently support widgets.\n",
       "</p>\n"
      ],
      "text/plain": [
       "interactive(children=(IntSlider(value=25, description='v_0', max=50), IntSlider(value=45, description='alpha', max=90), FloatSlider(value=0.49001, description='beta', max=1.0, min=1e-05, step=0.01), Output()), _dom_classes=('widget-interact',))"
      ]
     },
     "metadata": {},
     "output_type": "display_data"
    }
   ],
   "source": [
    "\n",
    "def parabole_comparison(v_0,alpha,beta):\n",
    "    alpharad = alpha*np.pi/180\n",
    "    t = np.linspace(0,15,1000)\n",
    "    vit = [0,0,v_0*np.cos(alpharad),v_0*np.sin(alpharad)]\n",
    "    ax = plt.gca()\n",
    "    ax.quiver(0,0,v_0*np.cos(alpharad),v_0*np.sin(alpharad),color='red',angles='xy', scale_units='xy', scale=1)\n",
    "    \n",
    "    trajectory_x_without = v_0*np.cos(alpharad)*t\n",
    "    trajectory_y_without = -0.5*g*t**2+v_0*np.sin(alpharad)*t\n",
    "    plt.plot(trajectory_x_without, trajectory_y_without,'g', label='trajectory without considering air resistance force')\n",
    "    plt.legend()\n",
    "    \n",
    "    trajectory_x_with = cumtrapz(v_0*np.cos(alpharad)*np.exp(-beta*t),t)\n",
    "    trajectory_y_with = cumtrapz(-g/beta+(v_0*np.sin(alpharad)+g/beta)*np.exp(-beta*t),t)\n",
    "    plt.plot(trajectory_x_with,trajectory_y_with,'b', label='trajectory considers air resistance force')\n",
    "    plt.legend()\n",
    "    \n",
    "    plt.axis([0, 300, 0, 150])\n",
    "    plt.xlabel('Horizontal movement of the bullet')\n",
    "    plt.ylabel('Verticle movement of the bullet')\n",
    "    plt.title('Trajectory of the lauched bullet')\n",
    "    plt.axes().set_aspect('equal')\n",
    "    plt.show()\n",
    "    \n",
    "interact(parabole_comparison, v_0=(0,50,1), alpha=(0,90,1), beta=(0.00001,1,0.01))  ;  "
   ]
  },
  {
   "cell_type": "markdown",
   "metadata": {},
   "source": [
    "# Demo 4: velocities of lauched bullet with vs. without air resistance force"
   ]
  },
  {
   "cell_type": "markdown",
   "metadata": {},
   "source": [
    "Below demonstrates the velocity of the bullet with vs. without considering air resistance"
   ]
  },
  {
   "cell_type": "markdown",
   "metadata": {},
   "source": [
    "$\\vec v = (v_0\\cos\\alpha,-gt+v_0\\sin\\alpha)$; (without considering air resistance force)\n",
    "\n",
    "$\\vec v = (v_0\\cos\\alpha e^{-\\beta t},\\frac{-g}{\\beta}+(v_0\\sin\\alpha+\\frac{g}{\\beta}) e^{-\\beta t})$;(considering air resistance force)"
   ]
  },
  {
   "cell_type": "code",
   "execution_count": 5,
   "metadata": {},
   "outputs": [
    {
     "data": {
      "application/vnd.jupyter.widget-view+json": {
       "model_id": "297b2db384634f439a25c7a01433bfc6",
       "version_major": 2,
       "version_minor": 0
      },
      "text/html": [
       "<p>Failed to display Jupyter Widget of type <code>interactive</code>.</p>\n",
       "<p>\n",
       "  If you're reading this message in the Jupyter Notebook or JupyterLab Notebook, it may mean\n",
       "  that the widgets JavaScript is still loading. If this message persists, it\n",
       "  likely means that the widgets JavaScript library is either not installed or\n",
       "  not enabled. See the <a href=\"https://ipywidgets.readthedocs.io/en/stable/user_install.html\">Jupyter\n",
       "  Widgets Documentation</a> for setup instructions.\n",
       "</p>\n",
       "<p>\n",
       "  If you're reading this message in another frontend (for example, a static\n",
       "  rendering on GitHub or <a href=\"https://nbviewer.jupyter.org/\">NBViewer</a>),\n",
       "  it may mean that your frontend doesn't currently support widgets.\n",
       "</p>\n"
      ],
      "text/plain": [
       "interactive(children=(IntSlider(value=25, description='v_0', max=50), IntSlider(value=45, description='alpha', max=90), FloatSlider(value=0.40001000000000003, description='beta', max=1.0, min=1e-05), Output()), _dom_classes=('widget-interact',))"
      ]
     },
     "metadata": {},
     "output_type": "display_data"
    }
   ],
   "source": [
    "\n",
    "def velocity_comparison(v_0, alpha, beta):\n",
    "    alpharad=alpha*np.pi/180\n",
    "    t = np.linspace(0,15,1000)\n",
    "    \n",
    "    v_x_without = v_0*np.cos(alpharad)\n",
    "    v_y_without = v_0*np.sin(alpharad)-g*t\n",
    "    v_without = np.sqrt((v_0*np.cos(alpharad))**2+(v_0*np.sin(alpharad)-g*t)**2)\n",
    "    \n",
    "    v_x_with = v_0*np.cos(alpharad)*np.exp(-beta*t)\n",
    "    v_y_with = -g/beta+(v_0*np.sin(alpharad)+g/beta)*np.exp(-beta*t)\n",
    "    v_with = np.sqrt((v_0*np.cos(alpharad)*np.exp(-beta*t))**2+(-g/beta+(v_0*np.sin(alpharad)+g/beta)*np.exp(-beta*t))**2)\n",
    "    \n",
    "    plt.plot(t, v_x_without.repeat(1000), 'r', label='Vx without considering air resistance force')\n",
    "    plt.plot(t, v_y_without, 'g', label='Vy without considering air resistance force')    \n",
    "    plt.plot(t, v_without, 'b', label='V without considering air resistance force')\n",
    "    plt.plot(t,v_x_with,'r--',label='Vx considers air resistance force')\n",
    "    plt.plot(t,v_y_with,'g--',label='Vy considers air resistance force')\n",
    "    plt.plot(t, v_with, 'b--', label='V considers air resistance force')\n",
    "    plt.legend(loc=2, bbox_to_anchor=(1.05,1.0),borderaxespad = 0.) \n",
    "    \n",
    "    plt.grid(True)\n",
    "    plt.xlabel('Time') \n",
    "    plt.ylabel('Velocity') \n",
    "    plt.title('Velocity of the bullet') \n",
    "    plt.show()\n",
    "    \n",
    "interact(velocity_comparison, v_0=(0,50,1), alpha=(0,90,1), beta=(0.00001,1,0.1))  ;  "
   ]
  },
  {
   "cell_type": "markdown",
   "metadata": {},
   "source": [
    "# Demo 5: trajectories of lauched bullet on slopes"
   ]
  },
  {
   "cell_type": "code",
   "execution_count": 6,
   "metadata": {},
   "outputs": [
    {
     "data": {
      "application/vnd.jupyter.widget-view+json": {
       "model_id": "bef69ea1fb1548dabfa99be8c24a3ceb",
       "version_major": 2,
       "version_minor": 0
      },
      "text/html": [
       "<p>Failed to display Jupyter Widget of type <code>interactive</code>.</p>\n",
       "<p>\n",
       "  If you're reading this message in the Jupyter Notebook or JupyterLab Notebook, it may mean\n",
       "  that the widgets JavaScript is still loading. If this message persists, it\n",
       "  likely means that the widgets JavaScript library is either not installed or\n",
       "  not enabled. See the <a href=\"https://ipywidgets.readthedocs.io/en/stable/user_install.html\">Jupyter\n",
       "  Widgets Documentation</a> for setup instructions.\n",
       "</p>\n",
       "<p>\n",
       "  If you're reading this message in another frontend (for example, a static\n",
       "  rendering on GitHub or <a href=\"https://nbviewer.jupyter.org/\">NBViewer</a>),\n",
       "  it may mean that your frontend doesn't currently support widgets.\n",
       "</p>\n"
      ],
      "text/plain": [
       "interactive(children=(IntSlider(value=25, description='v_0', max=50), IntSlider(value=45, description='alpha', max=90), FloatSlider(value=0.49001, description='beta', max=1.0, min=1e-05, step=0.01), IntSlider(value=45, description='theta', max=90), Output()), _dom_classes=('widget-interact',))"
      ]
     },
     "metadata": {},
     "output_type": "display_data"
    }
   ],
   "source": [
    "\n",
    "def parabole_slope(v_0,alpha,beta,theta):\n",
    "    alpharad = alpha*np.pi/180\n",
    "    thetarad = theta*np.pi/180\n",
    "    t = np.linspace(0.00001,30,1000)\n",
    "    vit = [0,0,v_0*np.cos(alpharad+thetarad),v_0*np.sin(alpharad+thetarad)]\n",
    "    ax = plt.gca()\n",
    "    ax.quiver(0,0,v_0*np.cos(alpharad+thetarad),v_0*np.sin(alpharad+thetarad),color='red',angles='xy', scale_units = 'xy', scale=1)\n",
    "    plt.axis([0, 300, 0, 150])  \n",
    "    \n",
    "    trajectory_x_without = v_0*np.cos(alpharad+thetarad)*t\n",
    "    trajectory_y_without = -0.5*g*t**2+v_0*np.sin(alpharad+thetarad)*t \n",
    "    \n",
    "    trajectory_x_with = cumtrapz(v_0*np.cos(alpharad+thetarad)*np.exp(-beta*t),t)\n",
    "    trajectory_y_with = cumtrapz(-g/beta+(v_0*np.sin(alpharad+thetarad)+g/beta)*np.exp(-beta*t),t)\n",
    "    \n",
    "    slope_height = trajectory_x_without*np.tan(thetarad)   \n",
    "    \n",
    "    x_without=[]\n",
    "    y_without=[]\n",
    "    for i in range(1000):\n",
    "        if trajectory_y_without[i]/trajectory_x_without[i] >= np.tan(thetarad):\n",
    "            x_without.append(trajectory_x_without[i])\n",
    "            y_without.append(trajectory_y_without[i])\n",
    "    \n",
    "    x_with=[]\n",
    "    y_with=[]\n",
    "    for i in range(999):\n",
    "        if trajectory_y_with[i]/trajectory_x_with[i] >= np.tan(thetarad):\n",
    "            x_with.append(trajectory_x_with[i])\n",
    "            y_with.append(trajectory_y_with[i])\n",
    "            \n",
    "    plt.plot(x_without, y_without, 'g', label='trajectory without considering air resistance force')\n",
    "    plt.plot(x_with, y_with, 'g--', label='trajectory considers air resistance force') \n",
    "    plt.plot(trajectory_x_without, slope_height, 'b')\n",
    "    plt.legend()\n",
    "    \n",
    "    plt.fill_between(trajectory_x_without, slope_height, interpolate=True, color='blue', alpha=0.5)\n",
    "    \n",
    "    plt.xlabel('Horizontal movement of the bullet')\n",
    "    plt.ylabel('Verticle movement of the bullet')\n",
    "    plt.title('Trajectory of the lauched bullet')\n",
    "    plt.axes().set_aspect('equal')\n",
    "    plt.show()\n",
    "\n",
    "interact(parabole_slope, v_0=(0,50,1), alpha=(0,90,1), beta=(0.00001,1,0.01), theta=(0,90,1))  ;  "
   ]
  },
  {
   "cell_type": "code",
   "execution_count": null,
   "metadata": {
    "collapsed": true
   },
   "outputs": [],
   "source": []
  }
 ],
 "metadata": {
  "kernelspec": {
   "display_name": "Python 3",
   "language": "python",
   "name": "python3"
  },
  "language_info": {
   "codemirror_mode": {
    "name": "ipython",
    "version": 3
   },
   "file_extension": ".py",
   "mimetype": "text/x-python",
   "name": "python",
   "nbconvert_exporter": "python",
   "pygments_lexer": "ipython3",
   "version": "3.6.8"
  }
 },
 "nbformat": 4,
 "nbformat_minor": 2
}
