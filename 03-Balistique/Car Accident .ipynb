{
 "cells": [
  {
   "cell_type": "markdown",
   "metadata": {},
   "source": [
    "\n",
    "Ennoncé:\n",
    "\n",
    "Un accident de la circulation survient dans une rue de Lausanne: une voiture renverse un piéton. L'enquêteur appelé sur les lieux constate :\n",
    "\n",
    "- deux traces parallèles de freinage d'une longueur de 60 m et commençant 15 m avant l'axe du passage pour piétons (largeur 4 m)\n",
    "- des débris de phares à 15 m après l'axe du passage;\n",
    "- les phares de la voiture sont à une hauteur de 1 m;\n",
    "- la voiture peut avoir une accélération de freinage de -5.2 m.s^-2. \n",
    "\n",
    "Quelles sont les responsabilités (vitesse du véhicule et position du piéton par rapport au passage au moment du choc)?\n",
    "L'origine des positions est placée sur l'axe du passage piéton.\n",
    "\n",
    "\n",
    "![Schéma](/Bureau/Capture.PNG \"ShowMyImage\")\n"
   ]
  },
  {
   "cell_type": "code",
   "execution_count": 26,
   "metadata": {},
   "outputs": [],
   "source": [
    "import matplotlib.pyplot as plt\n",
    "import numpy as np\n",
    "\n",
    "from ipywidgets import interact, interactive, fixed, interact_manual\n",
    "import ipywidgets as widgets\n",
    "from IPython.display import HTML\n",
    "\n",
    "from bokeh.io import push_notebook, show, output_notebook\n",
    "from bokeh.plotting import figure\n",
    "from bokeh.models import Arrow, OpenHead, NormalHead, VeeHead"
   ]
  },
  {
   "cell_type": "code",
   "execution_count": 27,
   "metadata": {},
   "outputs": [
    {
     "data": {
      "application/vnd.jupyter.widget-view+json": {
       "model_id": "17aec4ba31f4473e9e43e6ccf46130af",
       "version_major": 2,
       "version_minor": 0
      },
      "text/plain": [
       "interactive(children=(IntSlider(value=25, description='v_0', max=50), Output()), _dom_classes=('widget-interac…"
      ]
     },
     "metadata": {},
     "output_type": "display_data"
    }
   ],
   "source": [
    "g=9.81\n",
    "L = 60 # Longueur des traces de freinage\n",
    "d = 15 # Distance entre le début des traces de freinage et le passage piéton\n",
    "h = 1 # Hauteur des phares de la voiture\n",
    "a = 5.2 # décélération maximale de la voiture\n",
    "x_0= -d\n",
    "\n",
    "# Détermination de v_0\n",
    "\n",
    "def vitesseinitiale (v_0,):\n",
    "    a1=0\n",
    "    b1=v_0\n",
    "    a2=-15\n",
    "    b2=v_0\n",
    "    a3=L-d\n",
    "    b3=0\n",
    "    t = np.linspace(0,10,1000) # define time interval\n",
    "    v = -a*t + v_0\n",
    "    x = -0.5*a*t**2 + v_0*t-d\n",
    "    \n",
    "    passage1 = np.linspace(-2,2,1000)\n",
    "    passageb = 0*passage1\n",
    "    passageh = v_0*passage1 \n",
    "    AXEy= 0*np.linspace(0,50,1000)\n",
    "    AXEx= np.linspace(-15,50,1000)\n",
    " \n",
    "    \n",
    "    plt.plot(x,v)\n",
    "    plt.axis([-20, np.max(x)+10, 0, np.max(v)+10])\n",
    "    plt.plot([a1], [b1], 'ko')\n",
    "    plt.plot([a2], [b2],'ro')  \n",
    "    plt.plot([a3], [b3],'ro')  # point max atteint par la voiture (distance de freinage de 60m)\n",
    "    plt.plot(passage1,passageb,'ro',linewidth=8)  # x,y    Tracé du passage piéton\n",
    "    plt.plot(passageb,passageh,'-')        # Tracé du passage piéton\n",
    "    plt.plot(AXEx,AXEy,'k',linewidth = 3)\n",
    "    plt.plot(AXEy-15,AXEx,'k',linewidth = 2)\n",
    "    #plt.axis([0, np.max(sx), 0, np.max(sy)])  # change the scale of axes\n",
    "    plt.xlabel('x')\n",
    "    plt.ylabel('v')\n",
    "    plt.title('Car Accident')\n",
    "    plt.axes().set_aspect('auto')\n",
    "    plt.show()\n",
    "        \n",
    "interact(vitesseinitiale, v_0=(0,50,1))  ;"
   ]
  },
  {
   "cell_type": "code",
   "execution_count": 28,
   "metadata": {},
   "outputs": [
    {
     "data": {
      "application/vnd.jupyter.widget-view+json": {
       "model_id": "f524610d51e7419e93049ae82c5ed603",
       "version_major": 2,
       "version_minor": 0
      },
      "text/plain": [
       "interactive(children=(IntSlider(value=20, description='x_c', max=50, min=-10), Output()), _dom_classes=('widge…"
      ]
     },
     "metadata": {},
     "output_type": "display_data"
    }
   ],
   "source": [
    "def positioncollision (x_c,):\n",
    "    \n",
    "  \n",
    "    v_0= 25 # issu de la simulation précédente\n",
    "    a1=0\n",
    "    b1=v_0\n",
    "    a2=-15\n",
    "    b2=v_0\n",
    "    a3=L-d\n",
    "    b3=0\n",
    "    t = np.linspace(0,10,1000) # define time interval\n",
    "    v = -a*t + v_0\n",
    "    x = -0.5*a*t**2 + v_0*t-d \n",
    "    \n",
    "    A = -v_0+a*((2*h)/(g))**(0.5)\n",
    "    B = (v_0-a*((2*h)/g)**(0.5))**2\n",
    "    C = -2*a* (2*d - v_0*(2*h/g)**(0.5))\n",
    "    D = -a\n",
    "    \n",
    "    t_c= (A+ (B +C)**(0.5))/D \n",
    "    \n",
    "    #v_0= (x_c + d + 0.5*a*t_c**2 )/t_c \n",
    "    \n",
    "    v_c= -a*t_c + v_0\n",
    "    \n",
    "   # v1=v_c\n",
    "   # x1=v_c*t+x_c\n",
    "    v1 = -a*t + v_0\n",
    "    x1 = -0.5*a*t**2 + v_0*t-d +x_c\n",
    "    \n",
    "    AXEy= 0*np.linspace(0,50,1000)\n",
    "    AXEx= np.linspace(-15,50,1000)\n",
    "    \n",
    "    #Tracé du passage piéton   \n",
    "    passage1 = np.linspace(-2,2,1000)\n",
    "    passageb = 0*passage1\n",
    "    passageh = v_0*passage1    \n",
    "    plt.plot(passage1,passageb,'ro',linewidth=8)\n",
    "    plt.plot(passageb,passageh,'-')  \n",
    "    \n",
    "    \n",
    "    plt.plot(x,v,'g') # courbe réelle de la vitesse de la voiture\n",
    "    plt.plot(x1,v1)\n",
    "    plt.plot([x_c],[v_c],'k*')   # impact de la collision avec les données de l'exo\n",
    "    plt.axis([-20, np.max(x)+10, 0, np.max(v)+10])\n",
    "    plt.plot([a1], [b1], 'ro')\n",
    "    plt.plot([a2], [b2],'ro')  \n",
    "    plt.plot([a3], [b3],'ro')  # point max atteint par la voiture\n",
    "\n",
    "    plt.plot(AXEx,AXEy,'k',linewidth = 3)\n",
    "    plt.plot(AXEy-15,AXEx,'k',linewidth = 2)\n",
    "    #plt.axis([0, np.max(sx), 0, np.max(sy)])  # change the scale of axes\n",
    "    plt.xlabel('x')\n",
    "    plt.ylabel('v')\n",
    "    plt.title('Car Accident')\n",
    "    plt.axes().set_aspect('equal')\n",
    "    \n",
    "    plt.show()\n",
    "        \n",
    "interact(positioncollision, x_c=(-10,50,1))  ;\n",
    "\n",
    "\n"
   ]
  },
  {
   "cell_type": "code",
   "execution_count": 51,
   "metadata": {},
   "outputs": [
    {
     "data": {
      "application/vnd.jupyter.widget-view+json": {
       "model_id": "c6abbe05edb24a59bc87ed01b26a000c",
       "version_major": 2,
       "version_minor": 0
      },
      "text/plain": [
       "interactive(children=(IntSlider(value=20, description='x_c', max=50, min=-10), Output()), _dom_classes=('widge…"
      ]
     },
     "metadata": {},
     "output_type": "display_data"
    }
   ],
   "source": [
    "def positioncollision (x_c,):   \n",
    "    v_0= 25 # issu de la simulation précédente\n",
    "    a1=0\n",
    "    b1=v_0\n",
    "    a2=-15\n",
    "    b2=v_0\n",
    "    a3=L-d\n",
    "    b3=0\n",
    "    t = np.linspace(0,10,1000) # define time interval\n",
    "    v = -a*t + v_0\n",
    "    x = -0.5*a*t**2 + v_0*t-d \n",
    "    \n",
    "    A = -v_0+a*((2*h)/(g))**(0.5)\n",
    "    B = (v_0-a*((2*h)/g)**(0.5))**2\n",
    "    C = -2*a* (2*d - v_0*(2*h/g)**(0.5))\n",
    "    D = -a\n",
    "    \n",
    "    t_c= (A+ (B +C)**(0.5))/D \n",
    "    \n",
    "    #v_0= (x_c + d + 0.5*a*t_c**2 )/t_c \n",
    "    \n",
    "    v_c= -a*t_c + v_0\n",
    "    \n",
    "    #On définit t1 comme étant l'instant entre le début du freinage et la collision\n",
    "    t1=t+ x_c/v_c\n",
    "    v1 = -a*t1 + v_c\n",
    "   # x1=(-a*t_c +v_0)*((2*h/g)**(0.5)) +x_c\n",
    "    x1 = -0.5*a*t1**2 + v_c*t1+x_c \n",
    "    \n",
    "    AXEy= 0*np.linspace(0,50,1000)\n",
    "    AXEx= np.linspace(-15,50,1000)\n",
    "    \n",
    "    #Tracé du passage piéton   \n",
    "    passage1 = np.linspace(-2,2,1000)\n",
    "    passageb = 0*passage1\n",
    "    passageh = v_0*passage1    \n",
    "    plt.plot(passage1,passageb,'ro',linewidth=8)\n",
    "    plt.plot(passageb,passageh,'-')  \n",
    "    \n",
    "    \n",
    "    plt.plot(x,v,'g') # courbe réelle de la vitesse de la voiture\n",
    "    plt.plot(x1,v1)  # Trajectoire des débris\n",
    "    plt.plot([x_c],[v_c],'k*')   # impact de la collision avec les données de l'exo\n",
    "    plt.axis([-20, np.max(x)+10, 0, np.max(v)+10])\n",
    "    plt.plot([a1], [b1], 'ro')\n",
    "    plt.plot([a2], [b2],'ro')  \n",
    "    plt.plot([a3], [b3],'ro')  # point max atteint par la voiture\n",
    "\n",
    "    plt.plot(AXEx,AXEy,'k',linewidth = 3)\n",
    "    plt.plot(AXEy-15,AXEx,'k',linewidth = 2)\n",
    "    #plt.axis([0, np.max(sx), 0, np.max(sy)])  # change the scale of axes\n",
    "    plt.xlabel('x')\n",
    "    plt.ylabel('v')\n",
    "    plt.title('Car Accident')\n",
    "    plt.axes().set_aspect('equal')\n",
    "    \n",
    "    plt.show()\n",
    "        \n",
    "interact(positioncollision, x_c=(-10,50,1))  ;"
   ]
  },
  {
   "cell_type": "code",
   "execution_count": null,
   "metadata": {},
   "outputs": [],
   "source": []
  },
  {
   "cell_type": "code",
   "execution_count": null,
   "metadata": {},
   "outputs": [],
   "source": []
  }
 ],
 "metadata": {
  "kernelspec": {
   "display_name": "Python 3",
   "language": "python",
   "name": "python3"
  },
  "language_info": {
   "codemirror_mode": {
    "name": "ipython",
    "version": 3
   },
   "file_extension": ".py",
   "mimetype": "text/x-python",
   "name": "python",
   "nbconvert_exporter": "python",
   "pygments_lexer": "ipython3",
   "version": "3.7.3"
  }
 },
 "nbformat": 4,
 "nbformat_minor": 2
}
