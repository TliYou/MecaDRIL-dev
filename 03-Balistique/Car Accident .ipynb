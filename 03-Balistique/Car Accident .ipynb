{
 "cells": [
  {
   "cell_type": "code",
   "execution_count": 2,
   "metadata": {},
   "outputs": [
    {
     "data": {
      "image/png": "[encoded data removed]",
      "text/plain": [
       "<Figure size 432x288 with 1 Axes>"
      ]
     },
     "metadata": {
      "needs_background": "light"
     },
     "output_type": "display_data"
    },
    {
     "ename": "NameError",
     "evalue": "name 'parabole' is not defined",
     "output_type": "error",
     "traceback": [
      "\u001b[1;31m---------------------------------------------------------------------------\u001b[0m",
      "\u001b[1;31mNameError\u001b[0m                                 Traceback (most recent call last)",
      "\u001b[1;32m<ipython-input-2-66a8204b5574>\u001b[0m in \u001b[0;36m<module>\u001b[1;34m\u001b[0m\n\u001b[0;32m     25\u001b[0m \u001b[1;33m\u001b[0m\u001b[0m\n\u001b[0;32m     26\u001b[0m \u001b[1;33m\u001b[0m\u001b[0m\n\u001b[1;32m---> 27\u001b[1;33m \u001b[0minteract\u001b[0m\u001b[1;33m(\u001b[0m\u001b[0mparabole\u001b[0m\u001b[1;33m,\u001b[0m \u001b[0mv_0\u001b[0m\u001b[1;33m=\u001b[0m\u001b[1;33m(\u001b[0m\u001b[1;36m0\u001b[0m\u001b[1;33m,\u001b[0m\u001b[1;36m50\u001b[0m\u001b[1;33m,\u001b[0m\u001b[1;36m1\u001b[0m\u001b[1;33m)\u001b[0m\u001b[1;33m)\u001b[0m  \u001b[1;33m;\u001b[0m  \u001b[1;31m# afficher les curseurs et les lier aux graphes\u001b[0m\u001b[1;33m\u001b[0m\u001b[1;33m\u001b[0m\u001b[0m\n\u001b[0m",
      "\u001b[1;31mNameError\u001b[0m: name 'parabole' is not defined"
     ]
    }
   ],
   "source": [
    "import matplotlib.pyplot as plt\n",
    "import numpy as np\n",
    "\n",
    "from ipywidgets import interact, interactive, fixed, interact_manual\n",
    "import ipywidgets as widgets\n",
    "from IPython.display import HTML\n",
    "\n",
    "from bokeh.io import push_notebook, show, output_notebook\n",
    "from bokeh.plotting import figure\n",
    "from bokeh.models import Arrow, OpenHead, NormalHead, VeeHead\n",
    "\n",
    "v_0=5\n",
    "a=-5.2\n",
    "d=15\n",
    "t = np.linspace(0,10,1000) # define time interval\n",
    "v = a*t + v_0\n",
    "x = 0.5*a*t**2 +v_0*t-d\n",
    "plt.plot(v,x)\n",
    "plt.axis([0, np.max(x), 0, np.max(v)+0.5])\n",
    "plt.xlabel('x')\n",
    "plt.ylabel('z')\n",
    "plt.title('Car Accident')\n",
    "plt.axes().set_aspect('auto')\n",
    "plt.show()\n",
    "    \n",
    "    \n",
    "interact(parabole, v_0=(0,50,1))  ;  # afficher les curseurs et les lier aux graphes\n"
   ]
  },
  {
   "cell_type": "code",
   "execution_count": 6,
   "metadata": {},
   "outputs": [
    {
     "data": {
      "application/vnd.jupyter.widget-view+json": {
       "model_id": "01be3b5fd1454b799d0e7c836271a21f",
       "version_major": 2,
       "version_minor": 0
      },
      "text/plain": [
       "interactive(children=(IntSlider(value=25, description='v_0', max=50), Output()), _dom_classes=('widget-interac…"
      ]
     },
     "metadata": {},
     "output_type": "display_data"
    }
   ],
   "source": [
    "# \n",
    "g=9.81\n",
    "L = 60 # Longueur des traces de freinage\n",
    "d = 15 # Distance entre le début des traces de freinage et le passage piéton\n",
    "h = 1 # Hauteur des phares de la voiture\n",
    "a = 5.2 # décélération maximale de la voiture\n",
    "\n",
    "\n",
    "g=9.81\n",
    "# Détermination de v_0\n",
    "x_0= -d\n",
    "v_0=v_0\n",
    "x_f= L-d\n",
    "v_f=0\n",
    "\n",
    "def vitesseinitiale (v_0,):\n",
    "    a1=0\n",
    "    b1=v_0\n",
    "    a2=-15\n",
    "    b2=v_0\n",
    "    a3=L-d\n",
    "    b3=0\n",
    "    t = np.linspace(0,10,1000) # define time interval\n",
    "    v = -a*t + v_0\n",
    "    x = -0.5*a*t**2 + v_0*t-d\n",
    "    \n",
    "    passage1 = np.linspace(0,4,1000)\n",
    "    passageb = 0*passage1\n",
    "    passageh = v_0*passage1 \n",
    "    AXEy= 0*np.linspace(0,50,1000)\n",
    "    AXEx= np.linspace(-15,50,1000)\n",
    " \n",
    "    \n",
    "    plt.plot(x,v)\n",
    "    plt.axis([-20, np.max(x)+10, 0, np.max(v)+10])\n",
    "    plt.plot([a1], [b1], 'ro')\n",
    "    plt.plot([a2], [b2],'ro')  \n",
    "    plt.plot([a3], [b3],'ro')  # point max atteint par la voiture (distance de freinage de 60m)\n",
    "    plt.plot(passage1,passageb,'ro',linewidth=8)  # x,y    Tracé du passage piéton\n",
    "    plt.plot(passageb,passageh,'-')        # Tracé du passage piéton\n",
    "    plt.plot(AXEx,AXEy,'k',linewidth = 3)\n",
    "    plt.plot(AXEy-15,AXEx,'k',linewidth = 2)\n",
    "    #plt.axis([0, np.max(sx), 0, np.max(sy)])  # change the scale of axes\n",
    "    plt.xlabel('x')\n",
    "    plt.ylabel('v')\n",
    "    plt.title('Car Accident')\n",
    "    plt.axes().set_aspect('auto')\n",
    "    \n",
    "    plt.show()\n",
    "        \n",
    "        \n",
    "interact(vitesseinitiale, v_0=(0,50,1))  ;\n",
    "\n",
    "\n",
    "\n"
   ]
  },
  {
   "cell_type": "code",
   "execution_count": null,
   "metadata": {},
   "outputs": [],
   "source": []
  },
  {
   "cell_type": "code",
   "execution_count": null,
   "metadata": {},
   "outputs": [],
   "source": []
  },
  {
   "cell_type": "code",
   "execution_count": 17,
   "metadata": {},
   "outputs": [
    {
     "data": {
      "application/vnd.jupyter.widget-view+json": {
       "model_id": "03a9b6e5fdfb4e699db63e4f4aaae386",
       "version_major": 2,
       "version_minor": 0
      },
      "text/plain": [
       "interactive(children=(IntSlider(value=20, description='x_c', max=50, min=-10), Output()), _dom_classes=('widge…"
      ]
     },
     "metadata": {},
     "output_type": "display_data"
    }
   ],
   "source": [
    "\n",
    "\n",
    "g=9.81\n",
    "L = 60 # Longueur des traces de freinage\n",
    "d = 15 # Distance entre le début des traces de freinage et le passage piéton\n",
    "h = 1 # Hauteur des phares de la voiture\n",
    "a = 5.2 # décélération maximale de la voiture\n",
    "\n",
    "\n",
    "g=9.81\n",
    "# Détermination de v_0\n",
    "x_0= -d\n",
    "x_f= L-d\n",
    "v_f=0\n",
    "\n",
    "def positioncollision (x_c,):\n",
    "    \n",
    "\n",
    " \n",
    "    # Position x_c\n",
    "    \n",
    "    v_0= 25 # issu de la simulation précédente\n",
    "    a1=0\n",
    "    b1=v_0\n",
    "    a2=-15\n",
    "    b2=v_0\n",
    "    a3=L-d\n",
    "    b3=0\n",
    "\n",
    "    t = np.linspace(0,10,1000) # define time interval\n",
    "    v = -a*t + v_0\n",
    "    x = -0.5*a*t**2 + v_0*t-d \n",
    "    \n",
    "    A = -v_0+a*((2*h)/(g))**(0.5)\n",
    "    B = (v_0-a*((2*h)/g)**(0.5))**2\n",
    "    C = -2*a* (2*d - v_0*(2*h/g)**(0.5))\n",
    "    D = -a\n",
    "    \n",
    "    t_c= (A+ (B +C)**(0.5))/D \n",
    "    \n",
    "    #v_0= (x_c + d + 0.5*a*t_c**2 )/t_c \n",
    "    \n",
    "    v_c= -a*t_c + v_0\n",
    "    \n",
    "   # v1=v_c\n",
    "   # x1=v_c*t+x_c\n",
    "    v1 = -a*t + v_0\n",
    "    x1 = -0.5*a*t**2 + v_0*t-d +x_c\n",
    "    \n",
    "      \n",
    "    \n",
    "    AXEy= 0*np.linspace(0,50,1000)\n",
    "    AXEx= np.linspace(-15,50,1000)\n",
    "    \n",
    "    #Tracé du passage piéton   \n",
    "    passage1 = np.linspace(-2,2,1000)\n",
    "    passageb = 0*passage1\n",
    "    passageh = v_0*passage1    \n",
    "    plt.plot(passage1,passageb,'ro',linewidth=8)\n",
    "    plt.plot(passageb,passageh,'-')  \n",
    "    \n",
    "    \n",
    "    plt.plot(x,v,'g') # courbe réelle de la vitesse de la voiture\n",
    "    plt.plot(x1,v1)\n",
    "    plt.plot([x_c],[v_c],'k*')   # impact de la collision avec les données de l'exo\n",
    "    plt.axis([-20, np.max(x)+10, 0, np.max(v)+10])\n",
    "    plt.plot([a1], [b1], 'ro')\n",
    "    plt.plot([a2], [b2],'ro')  \n",
    "    plt.plot([a3], [b3],'ro')  # point max atteint par la voiture\n",
    "\n",
    "    plt.plot(AXEx,AXEy,'k',linewidth = 3)\n",
    "    plt.plot(AXEy-15,AXEx,'k',linewidth = 2)\n",
    "    #plt.axis([0, np.max(sx), 0, np.max(sy)])  # change the scale of axes\n",
    "    plt.xlabel('x')\n",
    "    plt.ylabel('v')\n",
    "    plt.title('Car Accident')\n",
    "    plt.axes().set_aspect('equal')\n",
    "    \n",
    "    plt.show()\n",
    "        \n",
    "interact(positioncollision, x_c=(-10,50,1))  ;\n",
    "\n",
    "# Temps de collision\n",
    "\n",
    "# Débris des phares\n",
    "\n"
   ]
  },
  {
   "cell_type": "code",
   "execution_count": null,
   "metadata": {},
   "outputs": [],
   "source": []
  },
  {
   "cell_type": "code",
   "execution_count": null,
   "metadata": {},
   "outputs": [],
   "source": []
  },
  {
   "cell_type": "code",
   "execution_count": null,
   "metadata": {},
   "outputs": [],
   "source": []
  },
  {
   "cell_type": "code",
   "execution_count": null,
   "metadata": {},
   "outputs": [],
   "source": []
  },
  {
   "cell_type": "code",
   "execution_count": null,
   "metadata": {},
   "outputs": [],
   "source": []
  },
  {
   "cell_type": "code",
   "execution_count": null,
   "metadata": {},
   "outputs": [],
   "source": []
  },
  {
   "cell_type": "code",
   "execution_count": null,
   "metadata": {},
   "outputs": [],
   "source": []
  },
  {
   "cell_type": "code",
   "execution_count": null,
   "metadata": {},
   "outputs": [],
   "source": []
  }
 ],
 "metadata": {
  "kernelspec": {
   "display_name": "Python 3",
   "language": "python",
   "name": "python3"
  },
  "language_info": {
   "codemirror_mode": {
    "name": "ipython",
    "version": 3
   },
   "file_extension": ".py",
   "mimetype": "text/x-python",
   "name": "python",
   "nbconvert_exporter": "python",
   "pygments_lexer": "ipython3",
   "version": "3.7.3"
  }
 },
 "nbformat": 4,
 "nbformat_minor": 2
}
