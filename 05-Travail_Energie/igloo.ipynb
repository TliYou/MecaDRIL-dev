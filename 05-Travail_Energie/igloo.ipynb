{
 "cells": [
  {
   "cell_type": "markdown",
   "metadata": {},
   "source": [
    "## l'igloo, exercice 1 série 6"
   ]
  },
  {
   "cell_type": "markdown",
   "metadata": {},
   "source": [
    "L'igloo est représenté par 1/4 cercle de rayon $R$.\n",
    "\n",
    "On donne une vitesse à l'enfant inuit$v_0$ en haut. On se place en un point $C$ de l'igloo défini par l'angle $\\theta$ compté depuis la verticale. On calcule $v_c$,la vitesse en $C$ grâce à la conservation de l'énergie mécanique On trace la parabole balistique qui a, en $C$ la vitesse $\\vec v_C$, tangente à l'igloo et de norme $v_C$\n",
    "\n",
    "On a trouvé le point de décollage $C_d$ quand la parabole est dans l'igloo avant $C$ et hors de l'igloo après $C$"
   ]
  },
  {
   "cell_type": "code",
   "execution_count": 3,
   "metadata": {
    "collapsed": true
   },
   "outputs": [],
   "source": [
    "import matplotlib.pyplot as plt\n",
    "import numpy as np\n",
    "import matplotlib\n",
    "matplotlib.rcParams['figure.figsize'] = (7,7)\n",
    "\n",
    "\n",
    "from ipywidgets import interact, interactive, fixed, interact_manual\n",
    "import ipywidgets as widgets"
   ]
  },
  {
   "cell_type": "code",
   "execution_count": 4,
   "metadata": {},
   "outputs": [
    {
     "data": {
      "application/vnd.jupyter.widget-view+json": {
       "model_id": "ff7b6a7e10394eac989e18d84a7eeead",
       "version_major": 2,
       "version_minor": 0
      },
      "text/html": [
       "<p>Failed to display Jupyter Widget of type <code>interactive</code>.</p>\n",
       "<p>\n",
       "  If you're reading this message in the Jupyter Notebook or JupyterLab Notebook, it may mean\n",
       "  that the widgets JavaScript is still loading. If this message persists, it\n",
       "  likely means that the widgets JavaScript library is either not installed or\n",
       "  not enabled. See the <a href=\"https://ipywidgets.readthedocs.io/en/stable/user_install.html\">Jupyter\n",
       "  Widgets Documentation</a> for setup instructions.\n",
       "</p>\n",
       "<p>\n",
       "  If you're reading this message in another frontend (for example, a static\n",
       "  rendering on GitHub or <a href=\"https://nbviewer.jupyter.org/\">NBViewer</a>),\n",
       "  it may mean that your frontend doesn't currently support widgets.\n",
       "</p>\n"
      ],
      "text/plain": [
       "interactive(children=(FloatSlider(value=44.0, description='theta', max=90.0, step=2.0), IntSlider(value=3, description='vzero', max=6), Output()), _dom_classes=('widget-interact',))"
      ]
     },
     "metadata": {},
     "output_type": "display_data"
    }
   ],
   "source": [
    "x = np.linspace(0,3,200)\n",
    "R=2\n",
    "g=10\n",
    "igloo=[]\n",
    "for i in x:\n",
    "    if i < R:\n",
    "        igloo.append(np.sqrt(R**2-i**2))\n",
    "    else: igloo.append(0) \n",
    "        \n",
    "\n",
    "        \n",
    "def paraplo(theta,vzero):\n",
    "    thetarad=theta*np.pi/180\n",
    "    xc=R*np.sin(thetarad)\n",
    "    yc=R*np.cos(thetarad)\n",
    "    h=R*(1-np.cos(thetarad))\n",
    "    vc=np.sqrt(vzero**2+2*g*h)\n",
    "    \n",
    "    def t(x):\n",
    "        t=(x-xc)/(vc*np.cos(thetarad))\n",
    "        return t\n",
    "    para2=[]\n",
    "    for i in x:\n",
    "        para2.append(-g/2*(t(i)**2)-vc*np.sin(thetarad)*t(i)+yc)\n",
    "    rayonx=np.linspace(0,xc,3)\n",
    "    rayony=np.linspace(0,yc,3)\n",
    "    plt.plot(x,igloo,lw=7 )\n",
    "#plt.plot(x,parabole)\n",
    "    plt.plot(x,para2, color=\"r\", lw=3)\n",
    "    plt.plot(rayonx,rayony,color=\"r\",lw=1)\n",
    "    ax = plt.gca()\n",
    "    ax.quiver(xc,yc,yc,-xc,color='black',angles='xy', scale_units='height', scale=30/vc)\n",
    "    plt.ylim(bottom=-0.1)\n",
    "    plt.ylim(top=3)\n",
    "    plt.xlim(right=3)\n",
    "    plt.show()\n",
    "\n",
    "    \n",
    "interact(paraplo, theta=(0.0,90,2),vzero=(0,6,1))  ;  \n"
   ]
  },
  {
   "cell_type": "code",
   "execution_count": null,
   "metadata": {
    "collapsed": true
   },
   "outputs": [],
   "source": []
  },
  {
   "cell_type": "code",
   "execution_count": null,
   "metadata": {
    "collapsed": true
   },
   "outputs": [],
   "source": []
  }
 ],
 "metadata": {
  "kernelspec": {
   "display_name": "Python 3",
   "language": "python",
   "name": "python3"
  },
  "language_info": {
   "codemirror_mode": {
    "name": "ipython",
    "version": 3
   },
   "file_extension": ".py",
   "mimetype": "text/x-python",
   "name": "python",
   "nbconvert_exporter": "python",
   "pygments_lexer": "ipython3",
   "version": "3.6.8"
  }
 },
 "nbformat": 4,
 "nbformat_minor": 2
}
